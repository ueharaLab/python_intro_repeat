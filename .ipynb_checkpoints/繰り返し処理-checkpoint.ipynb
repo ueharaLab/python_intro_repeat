{
 "cells": [
  {
   "cell_type": "markdown",
   "id": "04967407",
   "metadata": {},
   "source": [
    "# 繰り返しの基本（解説）\n",
    "- 同一の処理を繰り返すためのコーディング\n",
    "- 配列から要素を１個づつ変数iに取り出す処理"
   ]
  },
  {
   "cell_type": "code",
   "execution_count": 9,
   "id": "db0445ee",
   "metadata": {},
   "outputs": [
    {
     "name": "stdout",
     "output_type": "stream",
     "text": [
      "1\n",
      "4\n",
      "7\n",
      "10\n",
      "高崎市\n",
      "前橋市\n",
      "伊勢崎市\n",
      "水上市\n"
     ]
    }
   ],
   "source": [
    "array = [1,4,7,10]\n",
    "for i in array: \n",
    "    print(i)\n",
    "    \n",
    "city = ['高崎市','前橋市','伊勢崎市','水上市']\n",
    "for i in city: \n",
    "    print(i)"
   ]
  },
  {
   "cell_type": "code",
   "execution_count": 3,
   "id": "fe69a2fc",
   "metadata": {},
   "outputs": [
    {
     "name": "stdout",
     "output_type": "stream",
     "text": [
      "0 高崎市\n",
      "1 前橋市\n",
      "2 伊勢崎市\n",
      "3 水上市\n"
     ]
    }
   ],
   "source": [
    "city = ['高崎市','前橋市','伊勢崎市','水上市']\n",
    "for k,i in enumerate(city): \n",
    "    print(k,i)\n"
   ]
  },
  {
   "cell_type": "code",
   "execution_count": 4,
   "id": "3eed2499",
   "metadata": {},
   "outputs": [
    {
     "name": "stdout",
     "output_type": "stream",
     "text": [
      "0 高崎市\n",
      "1 前橋市\n",
      "2 伊勢崎市\n",
      "3 水上市\n"
     ]
    }
   ],
   "source": [
    "index = 0\n",
    "while index < len(city):\n",
    "    print(index, city[index])\n",
    "    index +=1"
   ]
  },
  {
   "cell_type": "code",
   "execution_count": 11,
   "id": "ea15909a",
   "metadata": {},
   "outputs": [
    {
     "name": "stdout",
     "output_type": "stream",
     "text": [
      "0 高崎市 1\n",
      "1 前橋市 4\n",
      "2 伊勢崎市 7\n",
      "3 水上市 10\n"
     ]
    }
   ],
   "source": [
    "for k,(i,j) in enumerate(zip(city,array)):   \n",
    "    print(k,i,j)"
   ]
  },
  {
   "cell_type": "code",
   "execution_count": 14,
   "id": "a6b0a723",
   "metadata": {},
   "outputs": [
    {
     "name": "stdout",
     "output_type": "stream",
     "text": [
      "水上市\n",
      "伊勢崎市\n",
      "前橋市\n",
      "高崎市\n"
     ]
    }
   ],
   "source": [
    "for i in reversed(city):\n",
    "    print(i)"
   ]
  },
  {
   "cell_type": "code",
   "execution_count": 4,
   "id": "b4f6c6ef",
   "metadata": {},
   "outputs": [
    {
     "name": "stdout",
     "output_type": "stream",
     "text": [
      "['高崎市', '前橋市', '伊勢崎市', '水上市']\n",
      "['さいたま市', '川越市', '熊谷市']\n",
      "['立川市', '武蔵野市', '日野市', '八王子市', '三鷹市']\n"
     ]
    }
   ],
   "source": [
    "cities = [['高崎市','前橋市','伊勢崎市','水上市'],['さいたま市','川越市','熊谷市'],['立川市','武蔵野市','日野市','八王子市','三鷹市']]\n",
    "for city in cities:\n",
    "    print(city)"
   ]
  },
  {
   "cell_type": "code",
   "execution_count": 5,
   "id": "1556f8ef",
   "metadata": {},
   "outputs": [
    {
     "name": "stdout",
     "output_type": "stream",
     "text": [
      "高崎市\n",
      "前橋市\n",
      "伊勢崎市\n",
      "水上市\n",
      "さいたま市\n",
      "川越市\n",
      "熊谷市\n",
      "立川市\n",
      "武蔵野市\n",
      "日野市\n",
      "八王子市\n",
      "三鷹市\n"
     ]
    }
   ],
   "source": [
    "for city in cities:\n",
    "    for c in city:\n",
    "        print(c)"
   ]
  },
  {
   "cell_type": "code",
   "execution_count": 25,
   "id": "377e3a89",
   "metadata": {},
   "outputs": [
    {
     "name": "stdout",
     "output_type": "stream",
     "text": [
      "埼玉県川越市\n",
      "350745\n",
      "埼玉県熊谷市\n",
      "198742\n",
      "埼玉県川口市\n",
      "578112\n",
      "埼玉県行田市\n",
      "82113\n",
      "埼玉県秩父市\n",
      "24038\n"
     ]
    }
   ],
   "source": [
    "saitama_dic = {'埼玉県川越市':350745,'埼玉県熊谷市':198742,'埼玉県川口市':578112,'埼玉県行田市':82113,'埼玉県秩父市':24038}\n",
    "for key, value in saitama_dic.items():\n",
    "    print(key)\n",
    "    print(value)"
   ]
  },
  {
   "cell_type": "markdown",
   "id": "a5f0fc06",
   "metadata": {},
   "source": [
    "### 内包表記\n",
    "for文を使って配列を作る方法。リスト型を作る場合をリスト内包表記、辞書型を作る場合を辞書内包表記と呼ぶ。"
   ]
  },
  {
   "cell_type": "code",
   "execution_count": 22,
   "id": "93763b19",
   "metadata": {},
   "outputs": [
    {
     "name": "stdout",
     "output_type": "stream",
     "text": [
      "['a', 'b', 'c', 'd', 'e', 'f', 'g']\n"
     ]
    },
    {
     "data": {
      "text/plain": [
       "['a', 'b', 'c', 'd', 'e', 'f', 'g']"
      ]
     },
     "execution_count": 22,
     "metadata": {},
     "output_type": "execute_result"
    }
   ],
   "source": [
    "# リスト内包表記\n",
    "alphabet='abcdefg'\n",
    "\n",
    "alpha_list =[]\n",
    "for alpha in alphabet:\n",
    "    alpha_list.append(alpha)\n",
    "print(alpha_list)\n",
    "alpha_list = [alpha for alpha in alphabet] \n",
    "print(alpha_list)"
   ]
  },
  {
   "cell_type": "code",
   "execution_count": 23,
   "id": "f3525719",
   "metadata": {},
   "outputs": [
    {
     "name": "stdout",
     "output_type": "stream",
     "text": [
      "{'a': 0, 'b': 1, 'c': 2, 'd': 3, 'e': 4, 'f': 5, 'g': 6}\n",
      "{'a': 0, 'b': 1, 'c': 2, 'd': 3, 'e': 4, 'f': 5, 'g': 6}\n"
     ]
    }
   ],
   "source": [
    "# 辞書内包表記\n",
    "alpha_dic ={}\n",
    "for i,alpha in enumerate(alphabet):\n",
    "    alpha_dic[alpha]=i\n",
    "print(alpha_dic)\n",
    "alpha_dic = {alpha:i for i,alpha in enumerate(alphabet)}\n",
    "print(alpha_dic)"
   ]
  },
  {
   "cell_type": "markdown",
   "id": "ebfe67c1",
   "metadata": {},
   "source": [
    "# 演習\n",
    "1. tokyo, saitama, gunmaの要素を同時に取り出して表示せよ"
   ]
  },
  {
   "cell_type": "code",
   "execution_count": 17,
   "id": "d1dfaccb",
   "metadata": {},
   "outputs": [
    {
     "name": "stdout",
     "output_type": "stream",
     "text": [
      "立川市 さいたま市 高崎市\n",
      "武蔵野市 川越市 前橋市\n",
      "日野市 熊谷市 伊勢崎市\n",
      "八王子市 秩父市 水上市\n"
     ]
    }
   ],
   "source": [
    "gunma=['高崎市','前橋市','伊勢崎市','水上市']\n",
    "saitama=['さいたま市','川越市','熊谷市','秩父市']\n",
    "tokyo=['立川市','武蔵野市','日野市','八王子市','三鷹']\n"
   ]
  },
  {
   "cell_type": "markdown",
   "id": "c9e33650",
   "metadata": {},
   "source": [
    "2. 配列 array1dim の要素を１つづつ取り出して、各要素の2乗を表示せよ\n",
    "3. 同様にして各要素の2乗和を繰り返し表示せよ\n",
    "4. 2.の2乗和について、for分の繰り返し中は表示せず、全ての要素の2乗和だけを表示せよ\n"
   ]
  },
  {
   "cell_type": "code",
   "execution_count": 1,
   "id": "3677abc1",
   "metadata": {},
   "outputs": [
    {
     "name": "stdout",
     "output_type": "stream",
     "text": [
      "0\n",
      "1\n",
      "4\n",
      "9\n",
      "16\n",
      "25\n",
      "36\n",
      "49\n",
      "64\n",
      "81\n",
      "0\n",
      "1\n",
      "5\n",
      "14\n",
      "30\n",
      "55\n",
      "91\n",
      "140\n",
      "204\n",
      "285\n",
      "285\n"
     ]
    }
   ],
   "source": [
    "import numpy as np\n",
    "array1dim = np.arange(10)\n",
    "\n"
   ]
  },
  {
   "cell_type": "markdown",
   "id": "146b5087",
   "metadata": {},
   "source": [
    "5. moji='今日は晴れ'からfor文を使って1文字づつ取り出し、これらの文字をつなげて'今日は晴れ'を再度表示せよ"
   ]
  },
  {
   "cell_type": "code",
   "execution_count": 2,
   "id": "a7a051ab",
   "metadata": {},
   "outputs": [
    {
     "name": "stdout",
     "output_type": "stream",
     "text": [
      "今日は晴れ\n"
     ]
    }
   ],
   "source": [
    "moji='今日は晴れ'\n"
   ]
  },
  {
   "cell_type": "markdown",
   "id": "ca3990b3",
   "metadata": {},
   "source": [
    "6. 以下のコーディングで、gunmaの要素のうち、'前橋市','伊勢崎市','水上市'のみ逐次取り出して表示するプログラムを完成させよ(for文、while文の2通りでかけ）"
   ]
  },
  {
   "cell_type": "code",
   "execution_count": 6,
   "id": "c7cdb1f9",
   "metadata": {},
   "outputs": [
    {
     "name": "stdout",
     "output_type": "stream",
     "text": [
      "前橋市\n",
      "伊勢崎市\n",
      "水上市\n",
      "前橋市\n",
      "伊勢崎市\n",
      "水上市\n"
     ]
    }
   ],
   "source": [
    "gunma=['高崎市','前橋市','伊勢崎市','水上市']\n"
   ]
  },
  {
   "cell_type": "markdown",
   "id": "c6b8aca2",
   "metadata": {},
   "source": [
    "7. saitama_dicは市毎の人口が入った辞書型データである。以下のfor文に続けて、市毎の人口を取り出し、これらの市の人口合計を表示するように完成せよ"
   ]
  },
  {
   "cell_type": "code",
   "execution_count": 4,
   "id": "7f117f1a",
   "metadata": {},
   "outputs": [
    {
     "name": "stdout",
     "output_type": "stream",
     "text": [
      "1233750\n"
     ]
    }
   ],
   "source": [
    "saitama_dic = {'埼玉県川越市':350745,'埼玉県熊谷市':198742,'埼玉県川口市':578112,'埼玉県行田市':82113,'埼玉県秩父市':24038}\n",
    "cities =  ['埼玉県川越市','埼玉県熊谷市','埼玉県川口市','埼玉県行田市','埼玉県秩父市']\n"
   ]
  },
  {
   "cell_type": "markdown",
   "id": "70a559ed",
   "metadata": {},
   "source": [
    "8. randn()は標準正規分布に従う乱数を生成する関数である　()内には生成する乱数の数が入る。以下のコーディングでは、標準正規分布に従う1000個の乱数をヒストグラムに描くものである。bins=の数はヒストグラムのビンの数である。このコーディングを参考に以下のコーデイングを書け。  \n",
    "    - for 文を使って、randn() で生成する乱数の数を1000から10000まで1000おきに増やし、その都度ヒストグラムを描け。\n",
    "    - なお、ヒストグラムのビン数は、繰り返しの都度、10から100まで増やすこと\n",
    "    - 繰り返しグラフ表示するには。plt.show() の代わりに、plt.pause(0.01)を使う\n",
    "\n"
   ]
  },
  {
   "cell_type": "code",
   "execution_count": 30,
   "id": "713f3362",
   "metadata": {},
   "outputs": [
    {
     "data": {
      "image/png": "[encoded data removed]",
      "text/plain": [
       "<Figure size 432x288 with 1 Axes>"
      ]
     },
     "metadata": {
      "needs_background": "light"
     },
     "output_type": "display_data"
    },
    {
     "data": {
      "image/png": "[encoded data removed]",
      "text/plain": [
       "<Figure size 432x288 with 1 Axes>"
      ]
     },
     "metadata": {
      "needs_background": "light"
     },
     "output_type": "display_data"
    }
   ],
   "source": [
    "import numpy as np\n",
    "import matplotlib.pyplot as plt\n",
    "\n",
    "normal_sample = np.random.randn(1000)\n",
    "plt.hist(normal_sample, bins=10,color='blue')\n",
    "plt.show()\n",
    "plt.hist(normal_sample, bins=100,color='blue')\n",
    "plt.show()"
   ]
  },
  {
   "cell_type": "code",
   "execution_count": 31,
   "id": "4534e34f",
   "metadata": {},
   "outputs": [
    {
     "data": {
      "image/png": "[encoded data removed]",
      "text/plain": [
       "<Figure size 432x288 with 1 Axes>"
      ]
     },
     "metadata": {
      "needs_background": "light"
     },
     "output_type": "display_data"
    },
    {
     "data": {
      "image/png": "[encoded data removed]",
      "text/plain": [
       "<Figure size 432x288 with 1 Axes>"
      ]
     },
     "metadata": {
      "needs_background": "light"
     },
     "output_type": "display_data"
    },
    {
     "data": {
      "image/png": "[encoded data removed]",
      "text/plain": [
       "<Figure size 432x288 with 1 Axes>"
      ]
     },
     "metadata": {
      "needs_background": "light"
     },
     "output_type": "display_data"
    },
    {
     "data": {
      "image/png": "[encoded data removed]",
      "text/plain": [
       "<Figure size 432x288 with 1 Axes>"
      ]
     },
     "metadata": {
      "needs_background": "light"
     },
     "output_type": "display_data"
    },
    {
     "data": {
      "image/png": "[encoded data removed]",
      "text/plain": [
       "<Figure size 432x288 with 1 Axes>"
      ]
     },
     "metadata": {
      "needs_background": "light"
     },
     "output_type": "display_data"
    },
    {
     "data": {
      "image/png": "[encoded data removed]",
      "text/plain": [
       "<Figure size 432x288 with 1 Axes>"
      ]
     },
     "metadata": {
      "needs_background": "light"
     },
     "output_type": "display_data"
    },
    {
     "data": {
      "image/png": "[encoded data removed]",
      "text/plain": [
       "<Figure size 432x288 with 1 Axes>"
      ]
     },
     "metadata": {
      "needs_background": "light"
     },
     "output_type": "display_data"
    },
    {
     "data": {
      "image/png": "[encoded data removed]",
      "text/plain": [
       "<Figure size 432x288 with 1 Axes>"
      ]
     },
     "metadata": {
      "needs_background": "light"
     },
     "output_type": "display_data"
    },
    {
     "data": {
      "image/png": "[encoded data removed]",
      "text/plain": [
       "<Figure size 432x288 with 1 Axes>"
      ]
     },
     "metadata": {
      "needs_background": "light"
     },
     "output_type": "display_data"
    },
    {
     "data": {
      "image/png": "[encoded data removed]",
      "text/plain": [
       "<Figure size 432x288 with 1 Axes>"
      ]
     },
     "metadata": {
      "needs_background": "light"
     },
     "output_type": "display_data"
    }
   ],
   "source": []
  },
  {
   "cell_type": "markdown",
   "id": "07489c17",
   "metadata": {},
   "source": [
    "9. randn()に1を加算すると、平均1の正規分布に従う乱数が得られる。そこで、for文を使って平均が0,1,2の正規乱数を生成して、それぞれ、blue, red,greenに色分けしたヒストグラムを描け（下のコーディングを完成せよ）"
   ]
  },
  {
   "cell_type": "code",
   "execution_count": 32,
   "id": "23b2a9cd",
   "metadata": {},
   "outputs": [
    {
     "data": {
      "image/png": "[encoded data removed]",
      "text/plain": [
       "<Figure size 432x288 with 1 Axes>"
      ]
     },
     "metadata": {
      "needs_background": "light"
     },
     "output_type": "display_data"
    }
   ],
   "source": [
    "import numpy as np\n",
    "import matplotlib.pyplot as plt\n",
    "\n",
    "normal_sample = np.random.randn(1000)+1\n",
    "plt.hist(normal_sample, bins=10,color='blue')\n",
    "plt.show()\n"
   ]
  },
  {
   "cell_type": "code",
   "execution_count": 41,
   "id": "225ae84f",
   "metadata": {},
   "outputs": [
    {
     "data": {
      "image/png": "[encoded data removed]",
      "text/plain": [
       "<Figure size 432x288 with 1 Axes>"
      ]
     },
     "metadata": {
      "needs_background": "light"
     },
     "output_type": "display_data"
    }
   ],
   "source": [
    "colors={0:'blue',1:'red',2:'green'}\n",
    "\n",
    "for i in range(3):\n",
    "    \n",
    "    \n",
    "    \n",
    "plt.show()"
   ]
  },
  {
   "cell_type": "markdown",
   "id": "df919a2c",
   "metadata": {},
   "source": [
    "10. 以下の2次元配列について、2重のfor文を用いて行毎の合計値を表示せよ\n"
   ]
  },
  {
   "cell_type": "code",
   "execution_count": 20,
   "id": "6a0b3042",
   "metadata": {},
   "outputs": [
    {
     "name": "stdout",
     "output_type": "stream",
     "text": [
      "[[ 0  1  2  3]\n",
      " [ 4  5  6  7]\n",
      " [ 8  9 10 11]]\n",
      "6\n",
      "22\n",
      "38\n"
     ]
    }
   ],
   "source": [
    "import numpy as np\n",
    "array2dim = np.arange(12).reshape(3,4)\n",
    "print(array2dim)\n"
   ]
  },
  {
   "cell_type": "markdown",
   "id": "7ce55485",
   "metadata": {},
   "source": [
    "11. リスト内包表記を使ってsaitama_dicから人口の値を要素とするリストを作れ"
   ]
  },
  {
   "cell_type": "code",
   "execution_count": 27,
   "id": "7925d0a2",
   "metadata": {},
   "outputs": [
    {
     "name": "stdout",
     "output_type": "stream",
     "text": [
      "[350745, 198742, 578112, 82113, 24038]\n"
     ]
    }
   ],
   "source": [
    "saitama_dic = {'埼玉県川越市':350745,'埼玉県熊谷市':198742,'埼玉県川口市':578112,'埼玉県行田市':82113,'埼玉県秩父市':24038}\n"
   ]
  },
  {
   "cell_type": "markdown",
   "id": "83905f3f",
   "metadata": {},
   "source": [
    "12. vectorとmatrixの積をnp.dotを用いずにfor文と積(*)で計算して同じ結果になるようにコーディングせよ"
   ]
  },
  {
   "cell_type": "code",
   "execution_count": 6,
   "id": "159d8166",
   "metadata": {},
   "outputs": [
    {
     "name": "stdout",
     "output_type": "stream",
     "text": [
      "[60 70 80]\n"
     ]
    }
   ],
   "source": [
    "import numpy as np\n",
    "matrix=np.arange(12).reshape(4,3)\n",
    "vector=np.array([1,2,3,4])\n",
    "print(np.dot(vector,matrix))"
   ]
  },
  {
   "cell_type": "code",
   "execution_count": 13,
   "id": "16c9c105",
   "metadata": {},
   "outputs": [
    {
     "name": "stdout",
     "output_type": "stream",
     "text": [
      "[60, 70, 80]\n"
     ]
    }
   ],
   "source": []
  },
  {
   "cell_type": "code",
   "execution_count": null,
   "id": "a9c94c9b",
   "metadata": {},
   "outputs": [],
   "source": []
  }
 ],
 "metadata": {
  "kernelspec": {
   "display_name": "Python 3 (ipykernel)",
   "language": "python",
   "name": "python3"
  },
  "language_info": {
   "codemirror_mode": {
    "name": "ipython",
    "version": 3
   },
   "file_extension": ".py",
   "mimetype": "text/x-python",
   "name": "python",
   "nbconvert_exporter": "python",
   "pygments_lexer": "ipython3",
   "version": "3.9.12"
  }
 },
 "nbformat": 4,
 "nbformat_minor": 5
}
